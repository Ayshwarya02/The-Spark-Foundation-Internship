{
 "cells": [
  {
   "cell_type": "markdown",
   "id": "2244b485",
   "metadata": {},
   "source": [
    "# THE SPARKS FOUNDATION\n",
    "## Data Science & Business Analytics Intern\n",
    "## Intern Name:Ayshwarya S\n",
    "### TASK 5:Task Description:Exploratory Data Analysis - Sports"
   ]
  },
  {
   "cell_type": "code",
   "execution_count": null,
   "id": "fd40b81f",
   "metadata": {},
   "outputs": [],
   "source": [
    "import pandas as pd\n",
    "import numpy as np\n",
    "import matplotlib.pyplot as plt\n",
    "import seaborn as sns\n",
    "%matplotlib inline"
   ]
  },
  {
   "cell_type": "code",
   "execution_count": null,
   "id": "818b7cbb",
   "metadata": {},
   "outputs": [],
   "source": [
    "matches = pd.read_csv(\"matches.csv\")"
   ]
  },
  {
   "cell_type": "code",
   "execution_count": null,
   "id": "cf866697",
   "metadata": {},
   "outputs": [],
   "source": [
    "matches.head()"
   ]
  },
  {
   "cell_type": "code",
   "execution_count": null,
   "id": "dea68475",
   "metadata": {},
   "outputs": [],
   "source": [
    "matches.tail()"
   ]
  },
  {
   "cell_type": "code",
   "execution_count": null,
   "id": "63653ddc",
   "metadata": {},
   "outputs": [],
   "source": [
    "matches.info()"
   ]
  },
  {
   "cell_type": "code",
   "execution_count": null,
   "id": "76f4a629",
   "metadata": {},
   "outputs": [],
   "source": [
    "matches.shape"
   ]
  },
  {
   "cell_type": "code",
   "execution_count": null,
   "id": "02c42123",
   "metadata": {},
   "outputs": [],
   "source": [
    "matches.describe()"
   ]
  },
  {
   "cell_type": "code",
   "execution_count": null,
   "id": "adb3f6a5",
   "metadata": {},
   "outputs": [],
   "source": [
    "deliveries = pd.read_csv(\"deliveries.csv\")"
   ]
  },
  {
   "cell_type": "code",
   "execution_count": null,
   "id": "e36ec963",
   "metadata": {},
   "outputs": [],
   "source": [
    "deliveries.head()"
   ]
  },
  {
   "cell_type": "code",
   "execution_count": null,
   "id": "147839b8",
   "metadata": {},
   "outputs": [],
   "source": [
    "deliveries.tail()"
   ]
  },
  {
   "cell_type": "code",
   "execution_count": null,
   "id": "0c6084d8",
   "metadata": {},
   "outputs": [],
   "source": [
    "deliveries.info()"
   ]
  },
  {
   "cell_type": "code",
   "execution_count": null,
   "id": "bf4e098f",
   "metadata": {},
   "outputs": [],
   "source": [
    "deliveries.shape"
   ]
  },
  {
   "cell_type": "code",
   "execution_count": null,
   "id": "96708b38",
   "metadata": {},
   "outputs": [],
   "source": [
    "deliveries.describe()"
   ]
  },
  {
   "cell_type": "code",
   "execution_count": null,
   "id": "743361de",
   "metadata": {},
   "outputs": [],
   "source": [
    "merge = pd.merge(deliveries,matches, left_on='match_id', right_on ='id')\n",
    "merge.head(2)"
   ]
  },
  {
   "cell_type": "code",
   "execution_count": null,
   "id": "bb92f281",
   "metadata": {},
   "outputs": [],
   "source": [
    "merge.info()"
   ]
  },
  {
   "cell_type": "code",
   "execution_count": null,
   "id": "cc9709c1",
   "metadata": {},
   "outputs": [],
   "source": [
    "merge.describe()"
   ]
  },
  {
   "cell_type": "code",
   "execution_count": null,
   "id": "0b7866ca",
   "metadata": {},
   "outputs": [],
   "source": [
    "matches.id.is_unique"
   ]
  },
  {
   "cell_type": "code",
   "execution_count": null,
   "id": "df664871",
   "metadata": {},
   "outputs": [],
   "source": [
    "matches.set_index('id', inplace=True)"
   ]
  },
  {
   "cell_type": "code",
   "execution_count": null,
   "id": "a31df33c",
   "metadata": {},
   "outputs": [],
   "source": [
    "matches.describe(include = 'all')"
   ]
  },
  {
   "cell_type": "code",
   "execution_count": null,
   "id": "b6433565",
   "metadata": {},
   "outputs": [],
   "source": [
    "matches.head()"
   ]
  },
  {
   "cell_type": "code",
   "execution_count": null,
   "id": "84ef6d7c",
   "metadata": {},
   "outputs": [],
   "source": [
    "matches[matches.city.isnull()][['city','venue']]"
   ]
  },
  {
   "cell_type": "code",
   "execution_count": null,
   "id": "a206da0a",
   "metadata": {},
   "outputs": [],
   "source": [
    "matches.city = matches.city.fillna('Dubai')"
   ]
  },
  {
   "cell_type": "code",
   "execution_count": null,
   "id": "d6edec84",
   "metadata": {},
   "outputs": [],
   "source": [
    "matches[(matches.umpire1.isnull()) | (matches.umpire2.isnull())]"
   ]
  },
  {
   "cell_type": "code",
   "execution_count": null,
   "id": "3ad40bab",
   "metadata": {},
   "outputs": [],
   "source": [
    "matches = matches.drop('umpire3', axis = 1)"
   ]
  },
  {
   "cell_type": "code",
   "execution_count": null,
   "id": "90c53cf8",
   "metadata": {},
   "outputs": [],
   "source": [
    "city_venue = matches.groupby(['city','venue']).count()['season']\n",
    "city_venue_df = pd.DataFrame(city_venue)\n",
    "city_venue_df"
   ]
  },
  {
   "cell_type": "code",
   "execution_count": null,
   "id": "4801c2f1",
   "metadata": {},
   "outputs": [],
   "source": [
    "plt.figure(figsize=(15,5))\n",
    "sns.countplot('season', data = matches)\n",
    "plt.title(\"Number of matches played each season\",fontsize=18,fontweight=\"bold\")\n",
    "plt.ylabel(\"Count\", size = 25)\n",
    "plt.xlabel(\"Season\", size = 25)\n",
    "plt.xticks(size = 20)\n",
    "plt.yticks(size = 20)"
   ]
  },
  {
   "cell_type": "code",
   "execution_count": null,
   "id": "6cbc7c05",
   "metadata": {},
   "outputs": [],
   "source": [
    "matches.groupby('season')['team1'].nunique().plot(kind = 'bar', figsize=(15,5))\n",
    "plt.title(\"Number of teams participated each season \",fontsize=18,fontweight=\"bold\")\n",
    "plt.ylabel(\"Count of teams\", size = 25)\n",
    "plt.xlabel(\"Season\", size = 25)\n",
    "plt.xticks(size = 15)\n",
    "plt.yticks(size = 15)"
   ]
  },
  {
   "cell_type": "code",
   "execution_count": null,
   "id": "8bdcb2e0",
   "metadata": {},
   "outputs": [],
   "source": [
    "matches.venue.value_counts().sort_values(ascending = True).tail(10).plot(kind = 'barh',figsize=(12,8), fontsize=15, color='green')\n",
    "plt.title(\"Venue which has hosted most number of IPL matches\",fontsize=18,fontweight=\"bold\")\n",
    "plt.ylabel(\"Venue\", size = 25)\n",
    "plt.xlabel(\"Frequency\", size = 25)"
   ]
  },
  {
   "cell_type": "code",
   "execution_count": null,
   "id": "9106a9d7",
   "metadata": {},
   "outputs": [],
   "source": [
    "winning_teams = matches[['season','winner']]"
   ]
  },
  {
   "cell_type": "code",
   "execution_count": null,
   "id": "12eedc5e",
   "metadata": {},
   "outputs": [],
   "source": [
    "winners_team = {}\n",
    "for i in sorted(winning_teams.season.unique()):\n",
    "    winners_team[i] = winning_teams[winning_teams.season == i]['winner'].tail(1).values[0]\n",
    "    \n",
    "winners_of_IPL = pd.Series(winners_team)\n",
    "winners_of_IPL = pd.DataFrame(winners_of_IPL, columns=['team'])"
   ]
  },
  {
   "cell_type": "code",
   "execution_count": null,
   "id": "62769851",
   "metadata": {},
   "outputs": [],
   "source": [
    "winners_of_IPL['team'].value_counts().plot(kind = 'barh', figsize = (15,5), color = 'darkblue')\n",
    "plt.title(\"Winners of IPL across 11 seasons\",fontsize=18,fontweight=\"bold\")\n",
    "plt.ylabel(\"Teams\", size = 25)\n",
    "plt.xlabel(\"Frequency\", size = 25)\n",
    "plt.xticks(size = 15)\n",
    "plt.yticks(size = 15)"
   ]
  },
  {
   "cell_type": "code",
   "execution_count": null,
   "id": "967e30a8",
   "metadata": {},
   "outputs": [],
   "source": [
    "matches['toss_decision'].value_counts().plot(kind='pie', fontsize=14, autopct='%3.1f%%', \n",
    "                                               figsize=(10,7), shadow=True, startangle=135, legend=True, cmap='Oranges')\n",
    "\n",
    "plt.ylabel('Toss Decision')\n",
    "plt.title('Decision taken by captains after winning tosses')"
   ]
  },
  {
   "cell_type": "code",
   "execution_count": null,
   "id": "b41da7ae",
   "metadata": {},
   "outputs": [],
   "source": [
    "matches['toss_win_game_win'] = np.where((matches.toss_winner == matches.winner),'Yes','No')\n",
    "plt.figure(figsize = (15,5))\n",
    "sns.countplot('toss_win_game_win', data=matches, hue = 'toss_decision')\n",
    "plt.title(\"How Toss Decision affects match result\", fontsize=18,fontweight=\"bold\")\n",
    "plt.xticks(size = 15)\n",
    "plt.yticks(size = 15)\n",
    "plt.xlabel(\"Winning Toss and winning match\", fontsize = 25)\n",
    "plt.ylabel(\"Frequency\", fontsize = 25)"
   ]
  },
  {
   "cell_type": "code",
   "execution_count": null,
   "id": "51fb42e8",
   "metadata": {},
   "outputs": [],
   "source": [
    "plt.figure(figsize = (25,10))\n",
    "sns.countplot('toss_winner', data = matches, hue = 'toss_decision')\n",
    "plt.title(\"Teams decision to bat first or second after winning toss\", size = 30, fontweight = 'bold')\n",
    "plt.xticks(size = 10)\n",
    "plt.yticks(size = 15)\n",
    "plt.xlabel(\"Toss Winner\", size = 35)\n",
    "plt.ylabel(\"Count\", size = 35)"
   ]
  },
  {
   "cell_type": "code",
   "execution_count": null,
   "id": "25089c7a",
   "metadata": {},
   "outputs": [],
   "source": [
    "MoM= matches['player_of_match'].value_counts()\n",
    "MoM.head(10).plot(kind = 'bar',figsize=(12,8), fontsize=15, color='black')\n",
    "plt.title(\"Top 10 players with most MoM awards\",fontsize=18,fontweight=\"bold\")\n",
    "plt.ylabel(\"Frequency\", size = 25)\n",
    "plt.xlabel(\"Players\", size = 25)"
   ]
  },
  {
   "cell_type": "code",
   "execution_count": null,
   "id": "0c99b2c1",
   "metadata": {},
   "outputs": [],
   "source": [
    "new_matches = matches[matches['result'] == 'normal']   #taking all those matches where result is normal and creating a new dataframe\n",
    "new_matches['win_batting_first'] = np.where((new_matches.win_by_runs > 0), 'Yes', 'No')\n",
    "new_matches.groupby('venue')['win_batting_first'].value_counts().unstack().plot(kind = 'barh', stacked = True,\n",
    "                                                                               figsize=(15,15))\n",
    "plt.title(\"How winning matches by fielding first varies across venues?\", fontsize=18,fontweight=\"bold\")\n",
    "plt.xticks(size = 15)\n",
    "plt.yticks(size = 15)\n",
    "plt.xlabel(\"Frequency\", fontsize = 25)\n",
    "plt.ylabel(\"Venue\", fontsize = 25)"
   ]
  },
  {
   "cell_type": "code",
   "execution_count": null,
   "id": "f96a179c",
   "metadata": {},
   "outputs": [],
   "source": [
    "plt.figure(figsize = (15,5))\n",
    "sns.countplot('season', data = new_matches, hue = 'win_batting_first')\n",
    "plt.title(\"Is batting second advantageous across all years\", fontsize=20,fontweight=\"bold\")\n",
    "plt.xticks(size = 15)\n",
    "plt.yticks(size = 15)\n",
    "plt.xlabel(\"Season\", fontsize = 25)\n",
    "plt.ylabel(\"Count\", fontsize = 25)"
   ]
  },
  {
   "cell_type": "code",
   "execution_count": null,
   "id": "1fd24616",
   "metadata": {},
   "outputs": [],
   "source": [
    "merge.groupby('season')['batsman_runs'].sum().plot(kind = 'line', linewidth = 3, figsize =(15,5),\n",
    "                                                                                             color = 'blue')\n",
    "plt.title(\"Runs over the years\",fontsize= 25, fontweight = 'bold')\n",
    "plt.xlabel(\"Season\", size = 25)\n",
    "plt.ylabel(\"Total Runs Scored\", size = 25)\n",
    "plt.xticks(size = 12)\n",
    "plt.yticks(size = 12)"
   ]
  },
  {
   "cell_type": "code",
   "execution_count": null,
   "id": "58a1f04b",
   "metadata": {},
   "outputs": [],
   "source": [
    "merge.groupby('batsman')['batsman_runs'].sum().sort_values(ascending = False).head(10).plot(kind = 'bar', color = 'red',\n",
    "                                                                                            figsize = (15,5))\n",
    "plt.title(\"Top Run Getters of IPL\", fontsize = 20, fontweight = 'bold')\n",
    "plt.xlabel(\"Batsmen\", size = 25)\n",
    "plt.ylabel(\"Total Runs Scored\", size = 25)\n",
    "plt.xticks(size = 12)\n",
    "plt.yticks(size = 12)"
   ]
  },
  {
   "cell_type": "code",
   "execution_count": null,
   "id": "f69ca26b",
   "metadata": {},
   "outputs": [],
   "source": [
    "consistent_batsman = merge[merge.batsman.isin(['SK Raina', 'V Kohli','RG Sharma','G Gambhir',\n",
    "                                            'RV Uthappa', 'S Dhawan','CH Gayle', 'MS Dhoni',\n",
    "                                            'DA Warner', 'AB de Villiers'])][['batsman','season','total_runs']]\n",
    "\n",
    "consistent_batsman.groupby(['season','batsman'])['total_runs'].sum().unstack().plot(kind = 'box', figsize = (15,8))\n",
    "plt.title(\"Most Consistent batsmen of IPL\", fontsize = 20, fontweight = 'bold')\n",
    "plt.xlabel(\"Batsmen\", size = 25)\n",
    "plt.ylabel(\"Total Runs Scored each season\", size = 25)\n",
    "plt.xticks(size = 15)\n",
    "plt.yticks(size = 15)"
   ]
  },
  {
   "cell_type": "code",
   "execution_count": null,
   "id": "83de9986",
   "metadata": {},
   "outputs": [],
   "source": [
    "merge.groupby('bowler')['player_dismissed'].count().sort_values(ascending = False).head(10).plot(kind = 'bar', \n",
    "                                                color = 'purple', figsize = (15,5))\n",
    "plt.title(\"Top Wicket Takers of IPL\", fontsize = 20, fontweight = 'bold')\n",
    "plt.xlabel(\"Bowler\", size = 25)\n",
    "plt.ylabel(\"Total Wickets Taken\", size = 25)\n",
    "plt.xticks(size = 12)\n",
    "plt.yticks(size = 12)"
   ]
  },
  {
   "cell_type": "code",
   "execution_count": null,
   "id": "3215821f",
   "metadata": {},
   "outputs": [],
   "source": [
    "no_of_balls = pd.DataFrame(merge.groupby('batsman')['ball'].count()) #total number of matches played by each batsman\n",
    "runs = pd.DataFrame(merge.groupby('batsman')['batsman_runs'].sum()) #total runs of each batsman\n",
    "seasons = pd.DataFrame(merge.groupby('batsman')['season'].nunique()) #season = 1 implies played only 1 season\n",
    "\n",
    "batsman_strike_rate = pd.DataFrame({'balls':no_of_balls['ball'],'run':runs['batsman_runs'],'season':seasons['season']})\n",
    "batsman_strike_rate.reset_index(inplace = True)\n",
    "\n",
    "batsman_strike_rate['strike_rate'] = batsman_strike_rate['run']/batsman_strike_rate['balls']*100\n",
    "highest_strike_rate = batsman_strike_rate[batsman_strike_rate.season.isin([10,11])][['season','batsman','strike_rate']].sort_values(by = 'strike_rate',\n",
    "                                                                                                            ascending = False)\n",
    "\n",
    "highest_strike_rate.head(10)"
   ]
  },
  {
   "cell_type": "code",
   "execution_count": null,
   "id": "0a6b7675",
   "metadata": {},
   "outputs": [],
   "source": [
    "plt.figure(figsize = (15,6))\n",
    "sns.barplot(x='batsman', y='strike_rate', data = highest_strike_rate.head(10), hue = 'season')\n",
    "plt.title(\"Highest strike rates in IPL\",fontsize= 30, fontweight = 'bold')\n",
    "plt.xlabel(\"Player\", size = 25)\n",
    "plt.ylabel(\"Strike Rate\", size = 25)\n",
    "plt.xticks(size = 14)\n",
    "plt.yticks(size = 14)"
   ]
  },
  {
   "cell_type": "code",
   "execution_count": null,
   "id": "1427e4a5",
   "metadata": {},
   "outputs": [],
   "source": [
    "extra = deliveries[deliveries['extra_runs']!=0]['bowler'].value_counts()[:10]\n",
    "extra.plot(kind='bar', figsize=(11,6), title='Bowlers who have bowled maximum number of Extra balls')\n",
    "\n",
    "plt.xlabel('BOWLER')\n",
    "plt.ylabel('BALLS')\n",
    "plt.show()\n",
    "\n",
    "extra = pd.DataFrame(extra)\n",
    "extra.T"
   ]
  },
  {
   "cell_type": "code",
   "execution_count": null,
   "id": "c5ce938e",
   "metadata": {},
   "outputs": [],
   "source": [
    "balls_bowled = pd.DataFrame(merge.groupby('bowler')['ball'].count())\n",
    "wickets_taken = pd.DataFrame(merge[merge['dismissal_kind'] != 'no dismissal'].groupby('bowler')['dismissal_kind'].count())\n",
    "seasons_played = pd.DataFrame(merge.groupby('bowler')['season'].nunique())\n",
    "bowler_strike_rate = pd.DataFrame({'balls':balls_bowled['ball'],'wickets':wickets_taken['dismissal_kind'],\n",
    "                          'season':seasons_played['season']})\n",
    "bowler_strike_rate.reset_index(inplace = True)"
   ]
  },
  {
   "cell_type": "code",
   "execution_count": null,
   "id": "b831f626",
   "metadata": {},
   "outputs": [],
   "source": [
    "\n",
    "bowler_strike_rate['strike_rate'] = bowler_strike_rate['balls']/bowler_strike_rate['wickets']\n",
    "def highlight_cols(s):\n",
    "    color = 'skyblue'\n",
    "    return 'background-color: %s' % color\n",
    "#Strike rate for bowlers who have taken more than 50 wickets\n",
    "best_bowling_strike_rate = bowler_strike_rate[bowler_strike_rate['wickets'] > 50].sort_values(by = 'strike_rate', ascending = True)\n",
    "best_bowling_strike_rate.head().style.applymap(highlight_cols, subset=pd.IndexSlice[:, ['bowler', 'wickets','strike_rate']])"
   ]
  }
 ],
 "metadata": {
  "kernelspec": {
   "display_name": "Python 3",
   "language": "python",
   "name": "python3"
  },
  "language_info": {
   "codemirror_mode": {
    "name": "ipython",
    "version": 3
   },
   "file_extension": ".py",
   "mimetype": "text/x-python",
   "name": "python",
   "nbconvert_exporter": "python",
   "pygments_lexer": "ipython3",
   "version": "3.8.8"
  }
 },
 "nbformat": 4,
 "nbformat_minor": 5
}
